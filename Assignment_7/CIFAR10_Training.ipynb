{
  "cells": [
    {
      "cell_type": "markdown",
      "metadata": {},
      "source": [
        "# CIFAR-10 Training with Custom CNN Architecture\n",
        "\n",
        "This notebook implements a custom CNN architecture for CIFAR-10 with:\n",
        "- Depthwise Separable Convolution\n",
        "- Dilated Convolution\n",
        "- Global Average Pooling\n",
        "- Advanced data augmentation using albumentations\n"
      ]
    },
    {
      "cell_type": "markdown",
      "metadata": {
        "id": "TbCyYUeuIjyR"
      },
      "source": [
        "# CIFAR-10 Training with Custom CNN Architecture\n",
        "\n",
        "This notebook implements a custom CNN architecture for CIFAR-10 with:\n",
        "- Depthwise Separable Convolution\n",
        "- Dilated Convolution\n",
        "- Global Average Pooling\n",
        "- Advanced data augmentation using albumentations\n"
      ]
    },
    {
      "cell_type": "code",
      "execution_count": 1,
      "metadata": {
        "colab": {
          "base_uri": "https://localhost:8080/"
        },
        "id": "in4tm_fTIjyW",
        "outputId": "5a7c5b62-f160-411e-fcb4-c7fc8138a9be"
      },
      "outputs": [
        {
          "name": "stdout",
          "output_type": "stream",
          "text": [
            "Writing dataset.py\n"
          ]
        }
      ],
      "source": [
        "# Create all necessary Python files\n",
        "\n",
        "# Create dataset.py\n",
        "%%writefile dataset.py\n",
        "import torch\n",
        "import numpy as np\n",
        "from torchvision import datasets\n",
        "from torch.utils.data import Dataset\n",
        "\n",
        "class CIFAR10Dataset(Dataset):\n",
        "    def __init__(self, dataset, transform=None):\n",
        "        self.dataset = dataset\n",
        "        self.transform = transform\n",
        "\n",
        "    def __len__(self):\n",
        "        return len(self.dataset)\n",
        "\n",
        "    def __getitem__(self, idx):\n",
        "        image, label = self.dataset[idx]\n",
        "        image = np.array(image)\n",
        "\n",
        "        if self.transform:\n",
        "            image = self.transform(image=image)['image']\n",
        "\n",
        "        return image, label\n",
        "\n",
        "def get_initial_dataloaders(batch_size=128):\n",
        "    \"\"\"Get dataloaders with basic transforms for mean/std calculation\"\"\"\n",
        "    import albumentations as A\n",
        "    from albumentations.pytorch import ToTensorV2\n",
        "\n",
        "    basic_transform = A.Compose([\n",
        "        A.Normalize(mean=[0.5, 0.5, 0.5], std=[0.5, 0.5, 0.5]),\n",
        "        ToTensorV2()\n",
        "    ])\n",
        "\n",
        "    return get_dataloaders(\n",
        "        batch_size=batch_size,\n",
        "        transform_train=basic_transform,\n",
        "        transform_test=basic_transform\n",
        "    )\n",
        "\n",
        "def get_dataloaders(batch_size, transform_train, transform_test):\n",
        "    trainset = datasets.CIFAR10(\n",
        "        root='./data', train=True, download=True\n",
        "    )\n",
        "    testset = datasets.CIFAR10(\n",
        "        root='./data', train=False, download=True\n",
        "    )\n",
        "\n",
        "    train_dataset = CIFAR10Dataset(trainset, transform_train)\n",
        "    test_dataset = CIFAR10Dataset(testset, transform_test)\n",
        "\n",
        "    train_loader = torch.utils.data.DataLoader(\n",
        "        train_dataset, batch_size=batch_size, shuffle=True, num_workers=2\n",
        "    )\n",
        "    test_loader = torch.utils.data.DataLoader(\n",
        "        test_dataset, batch_size=batch_size, shuffle=False, num_workers=2\n",
        "    )\n",
        "\n",
        "    return train_loader, test_loader\n"
      ]
    },
    {
      "cell_type": "code",
      "execution_count": 2,
      "metadata": {
        "colab": {
          "base_uri": "https://localhost:8080/"
        },
        "id": "MnBRE0svIjyc",
        "outputId": "7471f819-6d5c-40f6-c8c0-e4db26bc172f"
      },
      "outputs": [
        {
          "name": "stdout",
          "output_type": "stream",
          "text": [
            "Writing transforms.py\n"
          ]
        }
      ],
      "source": [
        "# Create transforms.py\n",
        "%%writefile transforms.py\n",
        "import albumentations as A\n",
        "from albumentations.pytorch import ToTensorV2\n",
        "import numpy as np\n",
        "\n",
        "class Transforms:\n",
        "    def __init__(self, mean, std):\n",
        "        self.train_transforms = A.Compose([\n",
        "            A.HorizontalFlip(p=0.5),\n",
        "            A.ShiftScaleRotate(shift_limit=0.1, scale_limit=0.1, rotate_limit=15, p=0.5),\n",
        "            A.CoarseDropout(\n",
        "                max_holes=1, max_height=16, max_width=16,\n",
        "                min_holes=1, min_height=16, min_width=16,\n",
        "                fill_value=mean, mask_fill_value=None,\n",
        "                p=0.5\n",
        "            ),\n",
        "            A.Normalize(mean=mean, std=std),\n",
        "            ToTensorV2()\n",
        "        ])\n",
        "\n",
        "        self.test_transforms = A.Compose([\n",
        "            A.Normalize(mean=mean, std=std),\n",
        "            ToTensorV2()\n",
        "        ])\n"
      ]
    },
    {
      "cell_type": "code",
      "execution_count": 3,
      "metadata": {
        "colab": {
          "base_uri": "https://localhost:8080/"
        },
        "id": "YY-n1_DoIjye",
        "outputId": "0897f67b-5fdc-4d75-ddd0-c981c2729d5a"
      },
      "outputs": [
        {
          "name": "stdout",
          "output_type": "stream",
          "text": [
            "Writing utils.py\n"
          ]
        }
      ],
      "source": [
        "# Create utils.py\n",
        "%%writefile utils.py\n",
        "import torch\n",
        "import matplotlib.pyplot as plt\n",
        "import numpy as np\n",
        "\n",
        "def get_mean_std(loader):\n",
        "    channels_sum, channels_squared_sum, num_batches = 0, 0, 0\n",
        "    for data, _ in loader:\n",
        "        channels_sum += torch.mean(data, dim=[0, 2, 3])\n",
        "        channels_squared_sum += torch.mean(data ** 2, dim=[0, 2, 3])\n",
        "        num_batches += 1\n",
        "\n",
        "    mean = channels_sum / num_batches\n",
        "    std = (channels_squared_sum / num_batches - mean ** 2) ** 0.5\n",
        "\n",
        "    return mean, std\n",
        "\n",
        "class AverageMeter:\n",
        "    def __init__(self):\n",
        "        self.reset()\n",
        "\n",
        "    def reset(self):\n",
        "        self.val = 0\n",
        "        self.avg = 0\n",
        "        self.sum = 0\n",
        "        self.count = 0\n",
        "\n",
        "    def update(self, val, n=1):\n",
        "        self.val = val\n",
        "        self.sum += val * n\n",
        "        self.count += n\n",
        "        self.avg = self.sum / self.count\n",
        "\n",
        "def plot_metrics(train_losses, train_accs, test_losses, test_accs):\n",
        "    fig, (ax1, ax2) = plt.subplots(1, 2, figsize=(15, 5))\n",
        "\n",
        "    ax1.plot(train_losses, label='Train Loss')\n",
        "    ax1.plot(test_losses, label='Test Loss')\n",
        "    ax1.set_xlabel('Epoch')\n",
        "    ax1.set_ylabel('Loss')\n",
        "    ax1.legend()\n",
        "    ax1.set_title('Loss vs Epoch')\n",
        "\n",
        "    ax2.plot(train_accs, label='Train Accuracy')\n",
        "    ax2.plot(test_accs, label='Test Accuracy')\n",
        "    ax2.set_xlabel('Epoch')\n",
        "    ax2.set_ylabel('Accuracy')\n",
        "    ax2.legend()\n",
        "    ax2.set_title('Accuracy vs Epoch')\n",
        "\n",
        "    plt.show()\n"
      ]
    },
    {
      "cell_type": "code",
      "execution_count": 4,
      "metadata": {
        "colab": {
          "base_uri": "https://localhost:8080/"
        },
        "id": "IZPOn0FzIjyh",
        "outputId": "7f55db52-b6fa-432f-9db3-57c6412754f6"
      },
      "outputs": [
        {
          "name": "stdout",
          "output_type": "stream",
          "text": [
            "Writing model.py\n"
          ]
        }
      ],
      "source": [
        "# Create model.py\n",
        "%%writefile model.py\n",
        "import torch\n",
        "import torch.nn as nn\n",
        "import torch.nn.functional as F\n",
        "\n",
        "class DepthwiseSeparableConv(nn.Module):\n",
        "    def __init__(self, in_channels, out_channels, kernel_size, stride=1, padding=1):\n",
        "        super(DepthwiseSeparableConv, self).__init__()\n",
        "        self.depthwise = nn.Conv2d(in_channels, in_channels, kernel_size=kernel_size,\n",
        "                                  stride=stride, padding=padding, groups=in_channels)\n",
        "        self.pointwise = nn.Conv2d(in_channels, out_channels, kernel_size=1)\n",
        "\n",
        "    def forward(self, x):\n",
        "        x = self.depthwise(x)\n",
        "        x = self.pointwise(x)\n",
        "        return x\n",
        "\n",
        "class CIFAR10Net(nn.Module):\n",
        "    def __init__(self, num_classes=10):\n",
        "        super(CIFAR10Net, self).__init__()\n",
        "\n",
        "        # Initial convolution block\n",
        "        self.conv1 = nn.Sequential(\n",
        "            nn.Conv2d(3, 32, kernel_size=3, padding=1),\n",
        "            nn.BatchNorm2d(32),\n",
        "            nn.ReLU(),\n",
        "            nn.Conv2d(32, 64, kernel_size=3, padding=1),\n",
        "            nn.BatchNorm2d(64),\n",
        "            nn.ReLU()\n",
        "        )\n",
        "\n",
        "        # Block with Depthwise Separable Convolution\n",
        "        self.conv2 = nn.Sequential(\n",
        "            DepthwiseSeparableConv(64, 128, kernel_size=3),\n",
        "            nn.BatchNorm2d(128),\n",
        "            nn.ReLU(),\n",
        "            nn.Conv2d(128, 128, kernel_size=3, padding=1),\n",
        "            nn.BatchNorm2d(128),\n",
        "            nn.ReLU()\n",
        "        )\n",
        "\n",
        "        # Block with Dilated Convolution\n",
        "        self.conv3 = nn.Sequential(\n",
        "            nn.Conv2d(128, 256, kernel_size=3, padding=2, dilation=2),\n",
        "            nn.BatchNorm2d(256),\n",
        "            nn.ReLU(),\n",
        "            nn.Conv2d(256, 256, kernel_size=3, padding=1),\n",
        "            nn.BatchNorm2d(256),\n",
        "            nn.ReLU()\n",
        "        )\n",
        "\n",
        "        # Final block with strided convolution\n",
        "        self.conv4 = nn.Sequential(\n",
        "            nn.Conv2d(256, 512, kernel_size=3, padding=1, stride=2),\n",
        "            nn.BatchNorm2d(512),\n",
        "            nn.ReLU()\n",
        "        )\n",
        "\n",
        "        # Global Average Pooling and final FC layer\n",
        "        self.gap = nn.AdaptiveAvgPool2d(1)\n",
        "        self.fc = nn.Linear(512, num_classes)\n",
        "\n",
        "    def forward(self, x):\n",
        "        x = self.conv1(x)\n",
        "        x = self.conv2(x)\n",
        "        x = self.conv3(x)\n",
        "        x = self.conv4(x)\n",
        "        x = self.gap(x)\n",
        "        x = x.view(-1, 512)\n",
        "        x = self.fc(x)\n",
        "        return x\n"
      ]
    },
    {
      "cell_type": "code",
      "execution_count": 5,
      "metadata": {
        "colab": {
          "base_uri": "https://localhost:8080/"
        },
        "id": "MZAfv5viIjyi",
        "outputId": "e988c979-8c8b-40c3-b10d-6d1aab6a9879"
      },
      "outputs": [
        {
          "name": "stdout",
          "output_type": "stream",
          "text": [
            "Writing train.py\n"
          ]
        }
      ],
      "source": [
        "# Create train.py\n",
        "%%writefile train.py\n",
        "import torch\n",
        "import torch.nn as nn\n",
        "import torch.optim as optim\n",
        "from tqdm import tqdm\n",
        "\n",
        "from model import CIFAR10Net\n",
        "from dataset import get_dataloaders\n",
        "from transforms import Transforms\n",
        "from utils import AverageMeter, plot_metrics, get_mean_std\n",
        "\n",
        "def train_epoch(model, train_loader, criterion, optimizer, device):\n",
        "    model.train()\n",
        "    train_loss = AverageMeter()\n",
        "    train_acc = AverageMeter()\n",
        "\n",
        "    pbar = tqdm(train_loader, desc='Training')\n",
        "    for data, target in pbar:\n",
        "        data, target = data.to(device), target.to(device)\n",
        "\n",
        "        optimizer.zero_grad()\n",
        "        output = model(data)\n",
        "        loss = criterion(output, target)\n",
        "\n",
        "        loss.backward()\n",
        "        optimizer.step()\n",
        "\n",
        "        pred = output.argmax(dim=1, keepdim=True)\n",
        "        correct = pred.eq(target.view_as(pred)).sum().item()\n",
        "\n",
        "        train_loss.update(loss.item(), data.size(0))\n",
        "        train_acc.update(100. * correct / data.size(0), data.size(0))\n",
        "\n",
        "        pbar.set_postfix({'Loss': f'{train_loss.avg:.4f}',\n",
        "                         'Acc': f'{train_acc.avg:.2f}%'})\n",
        "\n",
        "    return train_loss.avg, train_acc.avg\n",
        "\n",
        "def test_epoch(model, test_loader, criterion, device):\n",
        "    model.eval()\n",
        "    test_loss = AverageMeter()\n",
        "    test_acc = AverageMeter()\n",
        "\n",
        "    with torch.no_grad():\n",
        "        for data, target in test_loader:\n",
        "            data, target = data.to(device), target.to(device)\n",
        "\n",
        "            output = model(data)\n",
        "            loss = criterion(output, target)\n",
        "\n",
        "            pred = output.argmax(dim=1, keepdim=True)\n",
        "            correct = pred.eq(target.view_as(pred)).sum().item()\n",
        "\n",
        "            test_loss.update(loss.item(), data.size(0))\n",
        "            test_acc.update(100. * correct / data.size(0), data.size(0))\n",
        "\n",
        "    print(f'\\nTest set: Average loss: {test_loss.avg:.4f}, '\n",
        "          f'Accuracy: {test_acc.avg:.2f}%\\n')\n",
        "\n",
        "    return test_loss.avg, test_acc.avg\n",
        "\n",
        "def main(model=None, train_loader=None, test_loader=None, device=None,\n",
        "         num_epochs=50, learning_rate=0.001):\n",
        "    \"\"\"\n",
        "    Main training function that can be called from notebook or command line\n",
        "    \"\"\"\n",
        "    # Set device if not provided\n",
        "    if device is None:\n",
        "        device = torch.device('cuda' if torch.cuda.is_available() else 'cpu')\n",
        "\n",
        "    # If model and data loaders are not provided, create them\n",
        "    if model is None or train_loader is None or test_loader is None:\n",
        "        # Get dataloaders\n",
        "        temp_loader, _ = get_initial_dataloaders(batch_size=128)\n",
        "        mean, std = get_mean_std(temp_loader)\n",
        "\n",
        "        transforms = Transforms(mean.tolist(), std.tolist())\n",
        "        train_loader, test_loader = get_dataloaders(\n",
        "            batch_size=128,\n",
        "            transform_train=transforms.train_transforms,\n",
        "            transform_test=transforms.test_transforms\n",
        "        )\n",
        "\n",
        "        # Initialize model\n",
        "        model = CIFAR10Net().to(device)\n",
        "\n",
        "    # Initialize criterion and optimizer\n",
        "    criterion = nn.CrossEntropyLoss()\n",
        "    optimizer = optim.Adam(model.parameters(), lr=learning_rate)\n",
        "\n",
        "    # Training history\n",
        "    train_losses, train_accs = [], []\n",
        "    test_losses, test_accs = [], []\n",
        "\n",
        "    # Training loop\n",
        "    for epoch in range(num_epochs):\n",
        "        print(f'\\nEpoch: {epoch+1}/{num_epochs}')\n",
        "\n",
        "        train_loss, train_acc = train_epoch(\n",
        "            model, train_loader, criterion, optimizer, device\n",
        "        )\n",
        "        test_loss, test_acc = test_epoch(\n",
        "            model, test_loader, criterion, device\n",
        "        )\n",
        "\n",
        "        train_losses.append(train_loss)\n",
        "        train_accs.append(train_acc)\n",
        "        test_losses.append(test_loss)\n",
        "        test_accs.append(test_acc)\n",
        "\n",
        "        # Plot metrics\n",
        "        if (epoch + 1) % 5 == 0:\n",
        "            plot_metrics(train_losses, train_accs, test_losses, test_accs)\n",
        "\n",
        "if __name__ == '__main__':\n",
        "    main()\n"
      ]
    },
    {
      "cell_type": "code",
      "execution_count": 6,
      "metadata": {
        "colab": {
          "base_uri": "https://localhost:8080/"
        },
        "id": "E1KI9VcHIjyk",
        "outputId": "fb588ae0-1b66-47c8-e4cc-99742769b1d8"
      },
      "outputs": [
        {
          "name": "stdout",
          "output_type": "stream",
          "text": [
            "Requirement already satisfied: albumentations in /usr/local/lib/python3.12/dist-packages (2.0.8)\n",
            "Requirement already satisfied: torchsummary in /usr/local/lib/python3.12/dist-packages (1.5.1)\n",
            "Requirement already satisfied: numpy>=1.24.4 in /usr/local/lib/python3.12/dist-packages (from albumentations) (2.0.2)\n",
            "Requirement already satisfied: scipy>=1.10.0 in /usr/local/lib/python3.12/dist-packages (from albumentations) (1.16.2)\n",
            "Requirement already satisfied: PyYAML in /usr/local/lib/python3.12/dist-packages (from albumentations) (6.0.2)\n",
            "Requirement already satisfied: pydantic>=2.9.2 in /usr/local/lib/python3.12/dist-packages (from albumentations) (2.11.9)\n",
            "Requirement already satisfied: albucore==0.0.24 in /usr/local/lib/python3.12/dist-packages (from albumentations) (0.0.24)\n",
            "Requirement already satisfied: opencv-python-headless>=4.9.0.80 in /usr/local/lib/python3.12/dist-packages (from albumentations) (4.12.0.88)\n",
            "Requirement already satisfied: stringzilla>=3.10.4 in /usr/local/lib/python3.12/dist-packages (from albucore==0.0.24->albumentations) (4.0.11)\n",
            "Requirement already satisfied: simsimd>=5.9.2 in /usr/local/lib/python3.12/dist-packages (from albucore==0.0.24->albumentations) (6.5.3)\n",
            "Requirement already satisfied: annotated-types>=0.6.0 in /usr/local/lib/python3.12/dist-packages (from pydantic>=2.9.2->albumentations) (0.7.0)\n",
            "Requirement already satisfied: pydantic-core==2.33.2 in /usr/local/lib/python3.12/dist-packages (from pydantic>=2.9.2->albumentations) (2.33.2)\n",
            "Requirement already satisfied: typing-extensions>=4.12.2 in /usr/local/lib/python3.12/dist-packages (from pydantic>=2.9.2->albumentations) (4.15.0)\n",
            "Requirement already satisfied: typing-inspection>=0.4.0 in /usr/local/lib/python3.12/dist-packages (from pydantic>=2.9.2->albumentations) (0.4.1)\n",
            "\n",
            "Please restart the runtime now and run all cells after restart.\n"
          ]
        }
      ],
      "source": [
        "# Install required packages and restart runtime\n",
        "%pip install albumentations torchsummary\n",
        "print(\"\\nPlease restart the runtime now and run all cells after restart.\")\n"
      ]
    },
    {
      "cell_type": "code",
      "execution_count": 7,
      "metadata": {
        "colab": {
          "base_uri": "https://localhost:8080/"
        },
        "id": "9v-MTGwTIjyn",
        "outputId": "59d86bfa-c5c2-4554-9896-46d6c9b94c82"
      },
      "outputs": [
        {
          "name": "stdout",
          "output_type": "stream",
          "text": [
            "Using device: cuda\n"
          ]
        }
      ],
      "source": [
        "# Import all necessary modules\n",
        "import torch\n",
        "import torch.nn as nn\n",
        "import torch.optim as optim\n",
        "from torchvision import datasets\n",
        "import matplotlib.pyplot as plt\n",
        "from tqdm.notebook import tqdm\n",
        "\n",
        "# Import our custom modules\n",
        "from model import CIFAR10Net\n",
        "from dataset import CIFAR10Dataset, get_dataloaders, get_initial_dataloaders\n",
        "from transforms import Transforms\n",
        "from utils import AverageMeter, plot_metrics, get_mean_std\n",
        "\n",
        "# Check if GPU is available\n",
        "device = torch.device('cuda' if torch.cuda.is_available() else 'cpu')\n",
        "print(f'Using device: {device}')\n"
      ]
    },
    {
      "cell_type": "code",
      "execution_count": 8,
      "metadata": {
        "colab": {
          "base_uri": "https://localhost:8080/"
        },
        "id": "az2n_hRBIjyo",
        "outputId": "985627ad-2b71-4ee3-8f1c-c4a0073cca97"
      },
      "outputs": [
        {
          "name": "stdout",
          "output_type": "stream",
          "text": [
            "----------------------------------------------------------------\n",
            "        Layer (type)               Output Shape         Param #\n",
            "================================================================\n",
            "            Conv2d-1           [-1, 32, 32, 32]             896\n",
            "       BatchNorm2d-2           [-1, 32, 32, 32]              64\n",
            "              ReLU-3           [-1, 32, 32, 32]               0\n",
            "            Conv2d-4           [-1, 64, 32, 32]          18,496\n",
            "       BatchNorm2d-5           [-1, 64, 32, 32]             128\n",
            "              ReLU-6           [-1, 64, 32, 32]               0\n",
            "            Conv2d-7           [-1, 64, 32, 32]             640\n",
            "            Conv2d-8          [-1, 128, 32, 32]           8,320\n",
            "DepthwiseSeparableConv-9          [-1, 128, 32, 32]               0\n",
            "      BatchNorm2d-10          [-1, 128, 32, 32]             256\n",
            "             ReLU-11          [-1, 128, 32, 32]               0\n",
            "           Conv2d-12          [-1, 128, 32, 32]         147,584\n",
            "      BatchNorm2d-13          [-1, 128, 32, 32]             256\n",
            "             ReLU-14          [-1, 128, 32, 32]               0\n",
            "           Conv2d-15          [-1, 256, 32, 32]         295,168\n",
            "      BatchNorm2d-16          [-1, 256, 32, 32]             512\n",
            "             ReLU-17          [-1, 256, 32, 32]               0\n",
            "           Conv2d-18          [-1, 256, 32, 32]         590,080\n",
            "      BatchNorm2d-19          [-1, 256, 32, 32]             512\n",
            "             ReLU-20          [-1, 256, 32, 32]               0\n",
            "           Conv2d-21          [-1, 512, 16, 16]       1,180,160\n",
            "      BatchNorm2d-22          [-1, 512, 16, 16]           1,024\n",
            "             ReLU-23          [-1, 512, 16, 16]               0\n",
            "AdaptiveAvgPool2d-24            [-1, 512, 1, 1]               0\n",
            "           Linear-25                   [-1, 10]           5,130\n",
            "================================================================\n",
            "Total params: 2,249,226\n",
            "Trainable params: 2,249,226\n",
            "Non-trainable params: 0\n",
            "----------------------------------------------------------------\n",
            "Input size (MB): 0.01\n",
            "Forward/backward pass size (MB): 24.75\n",
            "Params size (MB): 8.58\n",
            "Estimated Total Size (MB): 33.35\n",
            "----------------------------------------------------------------\n"
          ]
        }
      ],
      "source": [
        "# Initialize model\n",
        "model = CIFAR10Net().to(device)\n",
        "\n",
        "# Print model summary\n",
        "from torchsummary import summary\n",
        "summary(model, (3, 32, 32))\n"
      ]
    },
    {
      "cell_type": "code",
      "execution_count": 9,
      "metadata": {
        "colab": {
          "base_uri": "https://localhost:8080/"
        },
        "id": "pyJVJUHgIjyp",
        "outputId": "8b3a964e-82bf-4d84-b4a2-5ef8b3095319"
      },
      "outputs": [
        {
          "name": "stderr",
          "output_type": "stream",
          "text": [
            "100%|██████████| 170M/170M [00:05<00:00, 29.3MB/s]\n"
          ]
        },
        {
          "name": "stdout",
          "output_type": "stream",
          "text": [
            "Dataset mean: [-0.017212819308042526, -0.03568915277719498, -0.10692785680294037], std: [0.4940808415412903, 0.4869847893714905, 0.5231732726097107]\n"
          ]
        },
        {
          "name": "stderr",
          "output_type": "stream",
          "text": [
            "/usr/local/lib/python3.12/dist-packages/albumentations/core/validation.py:114: UserWarning: ShiftScaleRotate is a special case of Affine transform. Please use Affine transform instead.\n",
            "  original_init(self, **validated_kwargs)\n",
            "/content/transforms.py:10: UserWarning: Argument(s) 'max_holes, max_height, max_width, min_holes, min_height, min_width, fill_value, mask_fill_value' are not valid for transform CoarseDropout\n",
            "  A.CoarseDropout(\n"
          ]
        }
      ],
      "source": [
        "# Get dataloaders with initial transforms to calculate mean/std\n",
        "temp_loader, _ = get_initial_dataloaders(batch_size=128)\n",
        "mean, std = get_mean_std(temp_loader)\n",
        "print(f\"Dataset mean: {mean.tolist()}, std: {std.tolist()}\")\n",
        "\n",
        "# Create transforms with calculated mean and std\n",
        "transforms = Transforms(mean.tolist(), std.tolist())\n",
        "\n",
        "# Create final dataloaders with proper transforms\n",
        "train_loader, test_loader = get_dataloaders(\n",
        "    batch_size=128,\n",
        "    transform_train=transforms.train_transforms,\n",
        "    transform_test=transforms.test_transforms\n",
        ")\n"
      ]
    },
    {
      "cell_type": "code",
      "execution_count": null,
      "metadata": {
        "colab": {
          "base_uri": "https://localhost:8080/",
          "height": 1000
        },
        "id": "dL7PlpEKIjyq",
        "outputId": "c309994e-dc5b-4656-da63-80618e9ac24c"
      },
      "outputs": [
        {
          "name": "stdout",
          "output_type": "stream",
          "text": [
            "\n",
            "Epoch: 1/50\n"
          ]
        },
        {
          "name": "stderr",
          "output_type": "stream",
          "text": [
            "Training: 100%|██████████| 391/391 [01:52<00:00,  3.47it/s, Loss=0.3099, Acc=89.17%]\n"
          ]
        },
        {
          "name": "stdout",
          "output_type": "stream",
          "text": [
            "\n",
            "Test set: Average loss: 0.4556, Accuracy: 84.47%\n",
            "\n",
            "\n",
            "Epoch: 2/50\n"
          ]
        },
        {
          "name": "stderr",
          "output_type": "stream",
          "text": [
            "Training: 100%|██████████| 391/391 [01:51<00:00,  3.49it/s, Loss=0.2893, Acc=89.79%]\n"
          ]
        },
        {
          "name": "stdout",
          "output_type": "stream",
          "text": [
            "\n",
            "Test set: Average loss: 0.5348, Accuracy: 82.99%\n",
            "\n",
            "\n",
            "Epoch: 3/50\n"
          ]
        },
        {
          "name": "stderr",
          "output_type": "stream",
          "text": [
            "Training: 100%|██████████| 391/391 [01:52<00:00,  3.48it/s, Loss=0.2779, Acc=90.22%]\n"
          ]
        },
        {
          "name": "stdout",
          "output_type": "stream",
          "text": [
            "\n",
            "Test set: Average loss: 0.4691, Accuracy: 84.62%\n",
            "\n",
            "\n",
            "Epoch: 4/50\n"
          ]
        },
        {
          "name": "stderr",
          "output_type": "stream",
          "text": [
            "Training: 100%|██████████| 391/391 [01:51<00:00,  3.49it/s, Loss=0.2687, Acc=90.57%]\n"
          ]
        },
        {
          "name": "stdout",
          "output_type": "stream",
          "text": [
            "\n",
            "Test set: Average loss: 0.4573, Accuracy: 86.12%\n",
            "\n",
            "\n",
            "Epoch: 5/50\n"
          ]
        },
        {
          "name": "stderr",
          "output_type": "stream",
          "text": [
            "Training: 100%|██████████| 391/391 [01:52<00:00,  3.49it/s, Loss=0.2572, Acc=91.01%]\n"
          ]
        },
        {
          "name": "stdout",
          "output_type": "stream",
          "text": [
            "\n",
            "Test set: Average loss: 0.4137, Accuracy: 86.77%\n",
            "\n"
          ]
        },
        {
          "data": {
            "image/png": "[encoded data removed]",
            "text/plain": [
              "<Figure size 1500x500 with 2 Axes>"
            ]
          },
          "metadata": {},
          "output_type": "display_data"
        },
        {
          "name": "stdout",
          "output_type": "stream",
          "text": [
            "\n",
            "Epoch: 6/50\n"
          ]
        },
        {
          "name": "stderr",
          "output_type": "stream",
          "text": [
            "Training:  89%|████████▉ | 348/391 [01:39<00:12,  3.49it/s, Loss=0.2481, Acc=91.31%]"
          ]
        }
      ],
      "source": [
        "# Import the main training function\n",
        "from train import main\n",
        "\n",
        "# Run training\n",
        "main(\n",
        "    model=model,\n",
        "    train_loader=train_loader,\n",
        "    test_loader=test_loader,\n",
        "    device=device,\n",
        "    num_epochs=50,\n",
        "    learning_rate=0.001\n",
        ")\n"
      ]
    }
  ],
  "metadata": {
    "accelerator": "GPU",
    "colab": {
      "gpuType": "T4",
      "provenance": []
    },
    "kernelspec": {
      "display_name": "Python 3",
      "name": "python3"
    },
    "language_info": {
      "codemirror_mode": {
        "name": "ipython",
        "version": 3
      },
      "file_extension": ".py",
      "mimetype": "text/x-python",
      "name": "python",
      "nbconvert_exporter": "python",
      "pygments_lexer": "ipython3",
      "version": "3.10.12"
    }
  },
  "nbformat": 4,
  "nbformat_minor": 0
}
